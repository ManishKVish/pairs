{
  "cells": [
    {
      "cell_type": "markdown",
      "metadata": {
        "id": "view-in-github",
        "colab_type": "text"
      },
      "source": [
        "<a href=\"https://colab.research.google.com/github/ManishKVish/pairs/blob/main/ADF%20CorrelationShip.ipynb\" target=\"_parent\"><img src=\"https://colab.research.google.com/assets/colab-badge.svg\" alt=\"Open In Colab\"/></a>"
      ]
    },
    {
      "cell_type": "markdown",
      "metadata": {
        "id": "zt_1xLk-arEu"
      },
      "source": [
        "\n",
        "\n",
        "```\n",
        "# This is formatted as code\n",
        "```\n",
        "\n",
        "**Step 1- Install libraries.**"
      ]
    },
    {
      "cell_type": "code",
      "execution_count": 5,
      "metadata": {
        "id": "-AnOt59qZ8v0",
        "colab": {
          "base_uri": "https://localhost:8080/"
        },
        "outputId": "a5becdc5-ff03-4911-9af3-fdb73c45cd89"
      },
      "outputs": [
        {
          "output_type": "stream",
          "name": "stdout",
          "text": [
            "Looking in indexes: https://pypi.org/simple, https://us-python.pkg.dev/colab-wheels/public/simple/\n",
            "Requirement already satisfied: numpy in /usr/local/lib/python3.7/dist-packages (1.21.6)\n",
            "Looking in indexes: https://pypi.org/simple, https://us-python.pkg.dev/colab-wheels/public/simple/\n",
            "Requirement already satisfied: pandas in /usr/local/lib/python3.7/dist-packages (1.3.5)\n",
            "Requirement already satisfied: python-dateutil>=2.7.3 in /usr/local/lib/python3.7/dist-packages (from pandas) (2.8.2)\n",
            "Requirement already satisfied: numpy>=1.17.3 in /usr/local/lib/python3.7/dist-packages (from pandas) (1.21.6)\n",
            "Requirement already satisfied: pytz>=2017.3 in /usr/local/lib/python3.7/dist-packages (from pandas) (2022.2.1)\n",
            "Requirement already satisfied: six>=1.5 in /usr/local/lib/python3.7/dist-packages (from python-dateutil>=2.7.3->pandas) (1.15.0)\n",
            "Looking in indexes: https://pypi.org/simple, https://us-python.pkg.dev/colab-wheels/public/simple/\n",
            "Requirement already satisfied: matplotlib in /usr/local/lib/python3.7/dist-packages (3.2.2)\n",
            "Requirement already satisfied: numpy>=1.11 in /usr/local/lib/python3.7/dist-packages (from matplotlib) (1.21.6)\n",
            "Requirement already satisfied: python-dateutil>=2.1 in /usr/local/lib/python3.7/dist-packages (from matplotlib) (2.8.2)\n",
            "Requirement already satisfied: cycler>=0.10 in /usr/local/lib/python3.7/dist-packages (from matplotlib) (0.11.0)\n",
            "Requirement already satisfied: pyparsing!=2.0.4,!=2.1.2,!=2.1.6,>=2.0.1 in /usr/local/lib/python3.7/dist-packages (from matplotlib) (3.0.9)\n",
            "Requirement already satisfied: kiwisolver>=1.0.1 in /usr/local/lib/python3.7/dist-packages (from matplotlib) (1.4.4)\n",
            "Requirement already satisfied: typing-extensions in /usr/local/lib/python3.7/dist-packages (from kiwisolver>=1.0.1->matplotlib) (4.1.1)\n",
            "Requirement already satisfied: six>=1.5 in /usr/local/lib/python3.7/dist-packages (from python-dateutil>=2.1->matplotlib) (1.15.0)\n",
            "Looking in indexes: https://pypi.org/simple, https://us-python.pkg.dev/colab-wheels/public/simple/\n",
            "Collecting yfinance\n",
            "  Downloading yfinance-0.1.74-py2.py3-none-any.whl (27 kB)\n",
            "Requirement already satisfied: multitasking>=0.0.7 in /usr/local/lib/python3.7/dist-packages (from yfinance) (0.0.11)\n",
            "Collecting requests>=2.26\n",
            "  Downloading requests-2.28.1-py3-none-any.whl (62 kB)\n",
            "\u001b[K     |████████████████████████████████| 62 kB 1.5 MB/s \n",
            "\u001b[?25hRequirement already satisfied: pandas>=0.24.0 in /usr/local/lib/python3.7/dist-packages (from yfinance) (1.3.5)\n",
            "Requirement already satisfied: numpy>=1.15 in /usr/local/lib/python3.7/dist-packages (from yfinance) (1.21.6)\n",
            "Requirement already satisfied: lxml>=4.5.1 in /usr/local/lib/python3.7/dist-packages (from yfinance) (4.9.1)\n",
            "Requirement already satisfied: python-dateutil>=2.7.3 in /usr/local/lib/python3.7/dist-packages (from pandas>=0.24.0->yfinance) (2.8.2)\n",
            "Requirement already satisfied: pytz>=2017.3 in /usr/local/lib/python3.7/dist-packages (from pandas>=0.24.0->yfinance) (2022.2.1)\n",
            "Requirement already satisfied: six>=1.5 in /usr/local/lib/python3.7/dist-packages (from python-dateutil>=2.7.3->pandas>=0.24.0->yfinance) (1.15.0)\n",
            "Requirement already satisfied: certifi>=2017.4.17 in /usr/local/lib/python3.7/dist-packages (from requests>=2.26->yfinance) (2022.6.15)\n",
            "Requirement already satisfied: idna<4,>=2.5 in /usr/local/lib/python3.7/dist-packages (from requests>=2.26->yfinance) (2.10)\n",
            "Requirement already satisfied: charset-normalizer<3,>=2 in /usr/local/lib/python3.7/dist-packages (from requests>=2.26->yfinance) (2.1.1)\n",
            "Requirement already satisfied: urllib3<1.27,>=1.21.1 in /usr/local/lib/python3.7/dist-packages (from requests>=2.26->yfinance) (1.24.3)\n",
            "Installing collected packages: requests, yfinance\n",
            "  Attempting uninstall: requests\n",
            "    Found existing installation: requests 2.23.0\n",
            "    Uninstalling requests-2.23.0:\n",
            "      Successfully uninstalled requests-2.23.0\n",
            "Successfully installed requests-2.28.1 yfinance-0.1.74\n",
            "Looking in indexes: https://pypi.org/simple, https://us-python.pkg.dev/colab-wheels/public/simple/\n",
            "Collecting datetime\n",
            "  Downloading DateTime-4.7-py2.py3-none-any.whl (52 kB)\n",
            "\u001b[K     |████████████████████████████████| 52 kB 882 kB/s \n",
            "\u001b[?25hCollecting zope.interface\n",
            "  Downloading zope.interface-5.4.0-cp37-cp37m-manylinux2010_x86_64.whl (251 kB)\n",
            "\u001b[K     |████████████████████████████████| 251 kB 34.2 MB/s \n",
            "\u001b[?25hRequirement already satisfied: pytz in /usr/local/lib/python3.7/dist-packages (from datetime) (2022.2.1)\n",
            "Requirement already satisfied: setuptools in /usr/local/lib/python3.7/dist-packages (from zope.interface->datetime) (57.4.0)\n",
            "Installing collected packages: zope.interface, datetime\n",
            "Successfully installed datetime-4.7 zope.interface-5.4.0\n",
            "Looking in indexes: https://pypi.org/simple, https://us-python.pkg.dev/colab-wheels/public/simple/\n",
            "Collecting xlsxwriter\n",
            "  Downloading XlsxWriter-3.0.3-py3-none-any.whl (149 kB)\n",
            "\u001b[K     |████████████████████████████████| 149 kB 14.8 MB/s \n",
            "\u001b[?25hInstalling collected packages: xlsxwriter\n",
            "Successfully installed xlsxwriter-3.0.3\n"
          ]
        }
      ],
      "source": [
        "\n",
        "!pip install numpy\n",
        "!pip install pandas\n",
        "!pip install matplotlib\n",
        "!pip install yfinance\n",
        "!pip install datetime\n",
        "!pip install xlsxwriter\n",
        "\n",
        "\n",
        "import pandas as pd\n",
        "import numpy as np\n",
        "import datetime as dt\n",
        "import yfinance as yf\n",
        "import statsmodels.api as sm\n",
        "from dateutil.relativedelta import relativedelta\n",
        "import xlsxwriter\n"
      ]
    },
    {
      "cell_type": "markdown",
      "metadata": {
        "id": "tMflS-vBa-rr"
      },
      "source": [
        "\n",
        "**Step 3:- Downloading the data from yahoo finance for ADF testing**"
      ]
    },
    {
      "cell_type": "code",
      "execution_count": 14,
      "metadata": {
        "colab": {
          "base_uri": "https://localhost:8080/",
          "height": 356
        },
        "id": "OlGQSUm_V3Cp",
        "outputId": "df137041-3752-4c16-c30b-0be36eac4a4b"
      },
      "outputs": [
        {
          "output_type": "error",
          "ename": "KeyboardInterrupt",
          "evalue": "ignored",
          "traceback": [
            "\u001b[0;31m---------------------------------------------------------------------------\u001b[0m",
            "\u001b[0;31mKeyboardInterrupt\u001b[0m                         Traceback (most recent call last)",
            "\u001b[0;32m<ipython-input-14-b8e1adb72b43>\u001b[0m in \u001b[0;36m<module>\u001b[0;34m\u001b[0m\n\u001b[1;32m     79\u001b[0m \u001b[0;31m#==================================================================================\u001b[0m\u001b[0;34m\u001b[0m\u001b[0;34m\u001b[0m\u001b[0;34m\u001b[0m\u001b[0m\n\u001b[1;32m     80\u001b[0m     \u001b[0mDF\u001b[0m \u001b[0;34m=\u001b[0m\u001b[0mpd\u001b[0m\u001b[0;34m.\u001b[0m\u001b[0mDataFrame\u001b[0m\u001b[0;34m(\u001b[0m\u001b[0;34m)\u001b[0m\u001b[0;34m\u001b[0m\u001b[0;34m\u001b[0m\u001b[0m\n\u001b[0;32m---> 81\u001b[0;31m     \u001b[0mstock\u001b[0m \u001b[0;34m=\u001b[0m \u001b[0myf\u001b[0m\u001b[0;34m.\u001b[0m\u001b[0mdownload\u001b[0m\u001b[0;34m(\u001b[0m\u001b[0mdata\u001b[0m\u001b[0;34m,\u001b[0m \u001b[0mstart\u001b[0m\u001b[0;34m,\u001b[0m \u001b[0mend\u001b[0m\u001b[0;34m)\u001b[0m\u001b[0;34m\u001b[0m\u001b[0;34m\u001b[0m\u001b[0m\n\u001b[0m\u001b[1;32m     82\u001b[0m     \u001b[0mmonth\u001b[0m \u001b[0;34m=\u001b[0m\u001b[0mstock\u001b[0m\u001b[0;34m[\u001b[0m\u001b[0;34m'Close'\u001b[0m\u001b[0;34m]\u001b[0m\u001b[0;34m.\u001b[0m\u001b[0mcorr\u001b[0m\u001b[0;34m(\u001b[0m\u001b[0;34m)\u001b[0m\u001b[0;34m\u001b[0m\u001b[0;34m\u001b[0m\u001b[0m\n\u001b[1;32m     83\u001b[0m \u001b[0;31m#==================================================================================\u001b[0m\u001b[0;34m\u001b[0m\u001b[0;34m\u001b[0m\u001b[0;34m\u001b[0m\u001b[0m\n",
            "\u001b[0;32m/usr/local/lib/python3.7/dist-packages/yfinance/multi.py\u001b[0m in \u001b[0;36mdownload\u001b[0;34m(tickers, start, end, actions, threads, group_by, auto_adjust, back_adjust, progress, period, show_errors, interval, prepost, proxy, rounding, timeout, **kwargs)\u001b[0m\n\u001b[1;32m    110\u001b[0m                                    rounding=rounding, timeout=timeout)\n\u001b[1;32m    111\u001b[0m         \u001b[0;32mwhile\u001b[0m \u001b[0mlen\u001b[0m\u001b[0;34m(\u001b[0m\u001b[0mshared\u001b[0m\u001b[0;34m.\u001b[0m\u001b[0m_DFS\u001b[0m\u001b[0;34m)\u001b[0m \u001b[0;34m<\u001b[0m \u001b[0mlen\u001b[0m\u001b[0;34m(\u001b[0m\u001b[0mtickers\u001b[0m\u001b[0;34m)\u001b[0m\u001b[0;34m:\u001b[0m\u001b[0;34m\u001b[0m\u001b[0;34m\u001b[0m\u001b[0m\n\u001b[0;32m--> 112\u001b[0;31m             \u001b[0m_time\u001b[0m\u001b[0;34m.\u001b[0m\u001b[0msleep\u001b[0m\u001b[0;34m(\u001b[0m\u001b[0;36m0.01\u001b[0m\u001b[0;34m)\u001b[0m\u001b[0;34m\u001b[0m\u001b[0;34m\u001b[0m\u001b[0m\n\u001b[0m\u001b[1;32m    113\u001b[0m \u001b[0;34m\u001b[0m\u001b[0m\n\u001b[1;32m    114\u001b[0m     \u001b[0;31m# download synchronously\u001b[0m\u001b[0;34m\u001b[0m\u001b[0;34m\u001b[0m\u001b[0;34m\u001b[0m\u001b[0m\n",
            "\u001b[0;31mKeyboardInterrupt\u001b[0m: "
          ]
        }
      ],
      "source": [
        "\n",
        "workbook = xlsxwriter.Workbook(\"C:/Users/manis/Videos/stocks/workbook.xls\")\n",
        " \n",
        "# By default worksheet names in the spreadsheet will be\n",
        "# Sheet1, Sheet2 etc., but we can also specify a name.\n",
        "worksheet = workbook.add_worksheet(\"Z-Score\")\n",
        "\n",
        "today1 = dt.datetime.today().strftime('%Y,%m,%d')\n",
        "# Start from the first cell. Rows and\n",
        "# columns are zero indexed.\n",
        "row = 0\n",
        "col = 0\n",
        "\n",
        "#start = dt.datetime(2021,6,1).date()\n",
        "#end = dt.datetime(2021,8,28).date()\n",
        "\n",
        "#############################################################\n",
        "#OLD DATE\n",
        "start = (dt.datetime.today() + relativedelta(months=-11)).date()\n",
        "\n",
        "#TODAYS DATE\n",
        "end = dt.datetime.today().date()\n",
        "#############################################################\n",
        "list = [\n",
        "        [\"^NSEI\",\"^NSEBANK\"],\n",
        "        [\"INFY.NS\",\"TCS.NS\"],\n",
        "        [\"TECHM.NS\",\"WIPRO.NS\"],\n",
        "        [\"WIPRO.NS\",\"HCLTECH.NS\"],\n",
        "        [\"INFY.NS\",\"WIPRO.NS\"],\n",
        "        [\"INFY.NS\",\"HCLTECH.NS\"],\n",
        "        [\"HDFCBANK.NS\",\"KOTAKBANK.NS\"],\n",
        " #       [\" ICICIBANK.NS\",\"AXISBANK.NS\"],\n",
        "        [\"KOTAKBANK.NS\",\"ICICIBANK.NS\"],\n",
        "        [\"KOTAKBANK.NS\",\"AXISBANK.NS\"],\n",
        "        [\"HDFCBANK.NS\",\"HDFC.NS\"],\n",
        "  #      [\"FEDERALBNK.NS\",\" RBLBANK.NS\"],\n",
        "        [\"ACC.NS\",\"AMBUJACEM.NS\"],\n",
        "        [\"TATASTEEL.NS\",\"HINDALCO.NS\"],\n",
        "        [\"JSWSTEEL.NS\",\"HINDALCO.NS\"],\n",
        "        [\"ONGC.NS\",\"GAIL.NS\"],\n",
        "        [\"ONGC.NS\",\"NTPC.NS\"],\n",
        "  #      [\"BAJFINANCE.NS\",\" BAJAJFINSV.NS\"],\n",
        "        [\"PFC.NS\",\"RECLTD.NS\"],\n",
        "        [\"AMARAJABAT.NS\",\"EXIDEIND.NS\"], \n",
        "        [\"APOLLOTYRE.NS\",\"MRF.NS\"],\n",
        "        [\"ESCORTS.NS\",\"BALKRISIND.NS\"],\n",
        "        [\"DLF.NS\",\"LT.NS\"],\n",
        "        [\"DLF.NS\",\"GODREJPROP.NS\"],\n",
        "        [\"ULTRACEMCO.NS\",\"GRASIM.NS\"],\n",
        "        [\"ULTRACEMCO.NS\",\"SHREECEM.NS\"],\n",
        "        [\"tatamotors.NS\",\"BAJAJ-AUTO.NS\"],\n",
        "        [\"BAJAJ-AUTO.NS\",\"heromotoco.NS\"],\n",
        "        [\"TVSMOTOR.NS\",\"heromotoco.NS\"],\n",
        "        [\"DIVISLAB.NS\",\"DRREDDY.NS\"],\n",
        "        [\"DIVISLAB.NS\",\"CIPLA.NS\"],\n",
        "        [\"HINDPETRO.NS\",\"IOC.NS\"],\n",
        "        [\"HINDPETRO.NS\",\"BPCL.NS\"],\n",
        "        [\"SBILIFE.NS\",\"HDFCLIFE.NS\"],\n",
        "        [\"ASIANPAINT.NS\",\"BERGEPAINT.NS\"],\n",
        "        [\"SUNPHARMA.NS\",\"AUROPHARMA.NS\"],\n",
        "        [\"ICICIPRULI.NS\",\"HDFCLIFE.NS\"],\n",
        "        [\"JUBLFOOD.NS\",\"TATACONSUM.NS\"],\n",
        "        #[\"ZEEL.NS\",\"SUNTV.NS\"],\n",
        "        #[\"MSUMI.NS\",\"heromotoco.NS\"],\n",
        "        ]\n",
        "   \n",
        "# getting length of list\n",
        "length = len(list)\n",
        "   \n",
        "# Iterating the index\n",
        "# same as 'for i in range(len(list))'\n",
        "for i in range(length):\n",
        "    data=list[i]\n",
        "    STOCK1=(list[i][0])\n",
        "    STOCK2=(list[i][1])\n",
        "    tickers=[\n",
        "    STOCK1,\n",
        "    STOCK2\n",
        "     ]\n",
        "#==================================================================================\n",
        "    DF =pd.DataFrame()\n",
        "    stock = yf.download(data, start, end)\n",
        "    month =stock['Close'].corr()\n",
        "#==================================================================================\n",
        "    for i in tickers:\n",
        "      df = yf.download(i,start,end,interval = \"1d\")[['Close']]\n",
        "      df.columns = [i]                         \n",
        "      DF = pd.concat([DF,df],axis =1)\n",
        "\n",
        "    DF = DF.copy().round(5)\n",
        "    DF\n",
        "\n",
        "\n",
        "    model = sm.OLS(DF[STOCK1],DF[STOCK2])\n",
        "    model = model.fit() \n",
        "    ' The hedge ratio is %.2f' % model.params[0]\n",
        "\n",
        "\n",
        "#==================================================================================\n",
        "    DF['Spread'] = DF.iloc[:,0] - model.params[0] * DF.iloc[:,1]\n",
        "    DF\n",
        "\n",
        "#==================================================================================\n",
        "# To perform ADF Test\n",
        "    from statsmodels.tsa.stattools import adfuller\n",
        "# Compute ADF test statistics\n",
        "    adf = adfuller(DF.Spread, maxlag = 1)\n",
        "    worksheet.write(row, col, ' ===== '.join(map(str, data)) )\n",
        "    worksheet.write(row, col + 1, model.params[0])\n",
        "    worksheet.write(row, col + 2, month.values.tolist()[1][0])\n",
        "    worksheet.write(row, col + 3, adf[0])\n",
        "    row += 1\n",
        "    print(\"==> \"+' ===== '.join(map(str, data)) +\"  ######## HEADE RATIO : \" + str(model.params[0]) + \" ######## Coralation :   \"+str(month.values.tolist()[1][0])+\"  ########ADF VALUE : \"+ str(adf[0]))\n",
        "\n",
        "#df.to_excel('C:\\Users\\Ron\\Desktop\\'Example3.xlsx'', sheet_name='Example3.xlsx' ,index = False)\n",
        "from xlwt import Workbook\n",
        "wb = Workbook()\n",
        "sheet1 = wb.add_sheet(\"Z-Score\")\n",
        "wb.save(\"C:/Users/manis/Videos/stocks/workbook.xls\")\n",
        "workbook.close()"
      ]
    },
    {
      "cell_type": "markdown",
      "source": [
        "99% confidence -3.44\n",
        "\n",
        "95% Confidence -2.86\n",
        "\n",
        "90% Confidence -2.56\n"
      ],
      "metadata": {
        "id": "Tx8lCkHoqOW2"
      }
    }
  ],
  "metadata": {
    "colab": {
      "collapsed_sections": [],
      "name": "ADF Testing.ipynb",
      "provenance": [],
      "include_colab_link": true
    },
    "kernelspec": {
      "display_name": "Python 3",
      "name": "python3"
    }
  },
  "nbformat": 4,
  "nbformat_minor": 0
}