{
  "nbformat": 4,
  "nbformat_minor": 0,
  "metadata": {
    "colab": {
      "name": "09_Greeks Calculator.ipynb",
      "provenance": [],
      "collapsed_sections": [],
      "include_colab_link": true
    },
    "kernelspec": {
      "name": "python3",
      "display_name": "Python 3"
    },
    "language_info": {
      "name": "python"
    }
  },
  "cells": [
    {
      "cell_type": "markdown",
      "metadata": {
        "id": "view-in-github",
        "colab_type": "text"
      },
      "source": [
        "<a href=\"https://colab.research.google.com/github/ManishKVish/pairs/blob/main/NIFTY%20PREMUM%20CALCULATOR.ipynb\" target=\"_parent\"><img src=\"https://colab.research.google.com/assets/colab-badge.svg\" alt=\"Open In Colab\"/></a>"
      ]
    },
    {
      "cell_type": "markdown",
      "metadata": {
        "id": "Vv62XUHkaDTJ"
      },
      "source": [
        "## Step 1: Import Libraries"
      ]
    },
    {
      "cell_type": "code",
      "metadata": {
        "id": "wUhme81saGkT"
      },
      "source": [],
      "execution_count": 19,
      "outputs": []
    },
    {
      "cell_type": "code",
      "metadata": {
        "id": "bNxAf9OFaKWW",
        "outputId": "59485a38-418b-4665-f08f-fe4d5fad4257",
        "colab": {
          "base_uri": "https://localhost:8080/"
        }
      },
      "source": [
        "!pip install mibian\n",
        "import mibian\n",
        "from tabulate import tabulate"
      ],
      "execution_count": 20,
      "outputs": [
        {
          "output_type": "stream",
          "name": "stdout",
          "text": [
            "Looking in indexes: https://pypi.org/simple, https://us-python.pkg.dev/colab-wheels/public/simple/\n",
            "Requirement already satisfied: mibian in /usr/local/lib/python3.7/dist-packages (0.1.3)\n"
          ]
        }
      ]
    },
    {
      "cell_type": "markdown",
      "metadata": {
        "id": "-YuV8F7haNbM"
      },
      "source": [
        "# Step 2: Define Parameters\n",
        "\n",
        "stock_price: This is the price at which the stock is trading.\n",
        "\n",
        "strike_price: This is the price at which the option will be exercised.\n",
        "\n",
        "interest_rate: This is the risk-free rate prevailing in the economy. In our example, we will take future price as the stock_price and consider the interest rate as 0. This is because the future price includes the interest rate.\n",
        "\n",
        "days_to_expiry: This the number of calendar days left to expiry.\n",
        "\n",
        "Volatility: This is the option's implied volatility."
      ]
    },
    {
      "cell_type": "code",
      "metadata": {
        "id": "ZOwQwyc4aP8B",
        "outputId": "a4744ecb-503d-4c59-f876-51d7614b35b4",
        "colab": {
          "base_uri": "https://localhost:8080/"
        }
      },
      "source": [
        "stock_price = 17119\n",
        "strike_price = 17200\n",
        "interest_rate = 10\n",
        "days_to_expiry = 1\n",
        "volatility = 24.19\n",
        "\n",
        "greeks = mibian.BS([stock_price, strike_price, interest_rate, days_to_expiry], \\\n",
        "                   volatility=volatility)\n",
        "\n",
        "greeks.callRho\n",
        "\n",
        "\n",
        "print(\"CALL OPTIONS \")\n",
        "print(\"==================\")\n",
        "\n",
        "print(tabulate(\n",
        "        [\n",
        "            ['Delta',greeks.callDelta],\n",
        "            ['Gamma',greeks.gamma],\n",
        "            ['Vega',greeks.vega],\n",
        "            ['Theta',greeks.callTheta],\n",
        "            ['Rho',greeks.callRho]\n",
        "        ],headers=['Greeks','Value'],tablefmt='orgtbl'))\n",
        "\n",
        "print(\"The Call price is:\",greeks.callPrice)\n",
        "print(\"===================================================================\")\n",
        "print(\"===================================================================\")\n",
        "print(\"PUT  OPTIONS  \")\n",
        "print(\"==================\")\n",
        "print(tabulate(\n",
        "        [\n",
        "            ['Delta', greeks.putDelta],\n",
        "            ['Gamma', greeks.gamma],\n",
        "            ['Vega', greeks.vega],\n",
        "            ['Theta', greeks.putTheta],\n",
        "            ['Rho', greeks.putRho]\n",
        "        ],headers=['Greeks', 'Value'], tablefmt='orgtbl'))\n",
        "print(\"\")\n",
        "print(\"The Put price is:\",greeks.putPrice)\n"
      ],
      "execution_count": 25,
      "outputs": [
        {
          "output_type": "stream",
          "name": "stdout",
          "text": [
            "CALL OPTIONS \n",
            "==================\n",
            "| Greeks   |        Value |\n",
            "|----------+--------------|\n",
            "| Delta    |   0.365106   |\n",
            "| Gamma    |   0.00173428 |\n",
            "| Vega     |   3.36837    |\n",
            "| Theta    | -42.438      |\n",
            "| Rho      |   0.169765   |\n",
            "The Call price is: 53.810006764620994\n",
            "===================================================================\n",
            "===================================================================\n",
            "PUT  OPTIONS  \n",
            "==================\n",
            "| Greeks   |        Value |\n",
            "|----------+--------------|\n",
            "| Delta    |  -0.634894   |\n",
            "| Gamma    |   0.00173428 |\n",
            "| Vega     |   3.36837    |\n",
            "| Theta    | -37.727      |\n",
            "| Rho      |  -0.301339   |\n",
            "\n",
            "The Put price is: 130.09832346303847\n"
          ]
        }
      ]
    },
    {
      "cell_type": "markdown",
      "metadata": {
        "id": "OKTohSMvaSvi"
      },
      "source": [
        "## Step 3: Compute Greeks\n",
        "\n",
        "BS (Black-Scholes) is used for pricing European options on the stocks without dividends. The syntax is as follows:\n",
        "\n",
        "BS([stock_price, strike_price, interest_rate, days_to_expiry], volatility=x, callPrice=y, putPrice=z).\n",
        "\n",
        "The BS function returns  the following callPrice, putPrice, callDelta, putDelta, callTheta, putTheta, callRho, putRho, vega, and gamma\t\n"
      ]
    },
    {
      "cell_type": "code",
      "metadata": {
        "id": "zz5sgNLOaVvT"
      },
      "source": [],
      "execution_count": 21,
      "outputs": []
    },
    {
      "cell_type": "code",
      "metadata": {
        "id": "MtBSoiA6aZyz"
      },
      "source": [],
      "execution_count": 21,
      "outputs": []
    },
    {
      "cell_type": "markdown",
      "metadata": {
        "id": "giyKPIwYanBu"
      },
      "source": [
        "## Step 4: Greeks for Call Option\n"
      ]
    },
    {
      "cell_type": "code",
      "metadata": {
        "id": "fHggzOjkac3P"
      },
      "source": [],
      "execution_count": 21,
      "outputs": []
    },
    {
      "cell_type": "markdown",
      "metadata": {
        "id": "xQyOUIYlag9d"
      },
      "source": [
        "## Step 5: Greeks for Put Option"
      ]
    },
    {
      "cell_type": "code",
      "metadata": {
        "id": "b_BMcCUzahjf"
      },
      "source": [],
      "execution_count": 21,
      "outputs": []
    },
    {
      "cell_type": "markdown",
      "metadata": {
        "id": "_lEqFTRiavk8"
      },
      "source": [
        "Below the Options Greeks table, the price of 100 strike call and 100 strike put is calculated. This is the theoretical option price as per the Black-Scholes options pricing model. This should ideally match the option price in the market. In the upcoming units, we will discuss in depth all the important Options Greeks and their sensitivity.\n",
        "<BR>\n"
      ]
    }
  ]
}