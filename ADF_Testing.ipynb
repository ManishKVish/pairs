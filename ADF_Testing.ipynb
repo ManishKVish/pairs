{
  "cells": [
    {
      "cell_type": "markdown",
      "metadata": {
        "id": "view-in-github",
        "colab_type": "text"
      },
      "source": [
        "<a href=\"https://colab.research.google.com/github/ManishKVish/pairs/blob/main/ADF_Testing.ipynb\" target=\"_parent\"><img src=\"https://colab.research.google.com/assets/colab-badge.svg\" alt=\"Open In Colab\"/></a>"
      ]
    },
    {
      "cell_type": "markdown",
      "metadata": {
        "id": "zt_1xLk-arEu"
      },
      "source": [
        "\n",
        "\n",
        "```\n",
        "# This is formatted as code\n",
        "```\n",
        "\n",
        "**Step 1- Install libraries.**"
      ]
    },
    {
      "cell_type": "code",
      "execution_count": 70,
      "metadata": {
        "id": "-AnOt59qZ8v0",
        "colab": {
          "base_uri": "https://localhost:8080/"
        },
        "outputId": "02bad0c9-48e8-4e00-8f31-0a1a30c47c09"
      },
      "outputs": [
        {
          "output_type": "stream",
          "name": "stdout",
          "text": [
            "Looking in indexes: https://pypi.org/simple, https://us-python.pkg.dev/colab-wheels/public/simple/\n",
            "Requirement already satisfied: numpy in /usr/local/lib/python3.7/dist-packages (1.21.6)\n",
            "Looking in indexes: https://pypi.org/simple, https://us-python.pkg.dev/colab-wheels/public/simple/\n",
            "Requirement already satisfied: pandas in /usr/local/lib/python3.7/dist-packages (1.3.5)\n",
            "Requirement already satisfied: numpy>=1.17.3 in /usr/local/lib/python3.7/dist-packages (from pandas) (1.21.6)\n",
            "Requirement already satisfied: python-dateutil>=2.7.3 in /usr/local/lib/python3.7/dist-packages (from pandas) (2.8.2)\n",
            "Requirement already satisfied: pytz>=2017.3 in /usr/local/lib/python3.7/dist-packages (from pandas) (2022.2)\n",
            "Requirement already satisfied: six>=1.5 in /usr/local/lib/python3.7/dist-packages (from python-dateutil>=2.7.3->pandas) (1.15.0)\n",
            "Looking in indexes: https://pypi.org/simple, https://us-python.pkg.dev/colab-wheels/public/simple/\n",
            "Requirement already satisfied: matplotlib in /usr/local/lib/python3.7/dist-packages (3.2.2)\n",
            "Requirement already satisfied: kiwisolver>=1.0.1 in /usr/local/lib/python3.7/dist-packages (from matplotlib) (1.4.4)\n",
            "Requirement already satisfied: cycler>=0.10 in /usr/local/lib/python3.7/dist-packages (from matplotlib) (0.11.0)\n",
            "Requirement already satisfied: python-dateutil>=2.1 in /usr/local/lib/python3.7/dist-packages (from matplotlib) (2.8.2)\n",
            "Requirement already satisfied: numpy>=1.11 in /usr/local/lib/python3.7/dist-packages (from matplotlib) (1.21.6)\n",
            "Requirement already satisfied: pyparsing!=2.0.4,!=2.1.2,!=2.1.6,>=2.0.1 in /usr/local/lib/python3.7/dist-packages (from matplotlib) (3.0.9)\n",
            "Requirement already satisfied: typing-extensions in /usr/local/lib/python3.7/dist-packages (from kiwisolver>=1.0.1->matplotlib) (4.1.1)\n",
            "Requirement already satisfied: six>=1.5 in /usr/local/lib/python3.7/dist-packages (from python-dateutil>=2.1->matplotlib) (1.15.0)\n",
            "Looking in indexes: https://pypi.org/simple, https://us-python.pkg.dev/colab-wheels/public/simple/\n",
            "Requirement already satisfied: yfinance in /usr/local/lib/python3.7/dist-packages (0.1.74)\n",
            "Requirement already satisfied: requests>=2.26 in /usr/local/lib/python3.7/dist-packages (from yfinance) (2.28.1)\n",
            "Requirement already satisfied: pandas>=0.24.0 in /usr/local/lib/python3.7/dist-packages (from yfinance) (1.3.5)\n",
            "Requirement already satisfied: multitasking>=0.0.7 in /usr/local/lib/python3.7/dist-packages (from yfinance) (0.0.11)\n",
            "Requirement already satisfied: lxml>=4.5.1 in /usr/local/lib/python3.7/dist-packages (from yfinance) (4.9.1)\n",
            "Requirement already satisfied: numpy>=1.15 in /usr/local/lib/python3.7/dist-packages (from yfinance) (1.21.6)\n",
            "Requirement already satisfied: python-dateutil>=2.7.3 in /usr/local/lib/python3.7/dist-packages (from pandas>=0.24.0->yfinance) (2.8.2)\n",
            "Requirement already satisfied: pytz>=2017.3 in /usr/local/lib/python3.7/dist-packages (from pandas>=0.24.0->yfinance) (2022.2)\n",
            "Requirement already satisfied: six>=1.5 in /usr/local/lib/python3.7/dist-packages (from python-dateutil>=2.7.3->pandas>=0.24.0->yfinance) (1.15.0)\n",
            "Requirement already satisfied: charset-normalizer<3,>=2 in /usr/local/lib/python3.7/dist-packages (from requests>=2.26->yfinance) (2.1.0)\n",
            "Requirement already satisfied: urllib3<1.27,>=1.21.1 in /usr/local/lib/python3.7/dist-packages (from requests>=2.26->yfinance) (1.24.3)\n",
            "Requirement already satisfied: certifi>=2017.4.17 in /usr/local/lib/python3.7/dist-packages (from requests>=2.26->yfinance) (2022.6.15)\n",
            "Requirement already satisfied: idna<4,>=2.5 in /usr/local/lib/python3.7/dist-packages (from requests>=2.26->yfinance) (2.10)\n",
            "Looking in indexes: https://pypi.org/simple, https://us-python.pkg.dev/colab-wheels/public/simple/\n",
            "Requirement already satisfied: datetime in /usr/local/lib/python3.7/dist-packages (4.5)\n",
            "Requirement already satisfied: pytz in /usr/local/lib/python3.7/dist-packages (from datetime) (2022.2)\n",
            "Requirement already satisfied: zope.interface in /usr/local/lib/python3.7/dist-packages (from datetime) (5.4.0)\n",
            "Requirement already satisfied: setuptools in /usr/local/lib/python3.7/dist-packages (from zope.interface->datetime) (57.4.0)\n"
          ]
        }
      ],
      "source": [
        "!pip install numpy\n",
        "!pip install pandas\n",
        "!pip install matplotlib\n",
        "!pip install yfinance\n",
        "!pip install datetime"
      ]
    },
    {
      "cell_type": "markdown",
      "metadata": {
        "id": "LuRgczCkazef"
      },
      "source": [
        "# **Step 2:- Call mandatory libraries**"
      ]
    },
    {
      "cell_type": "code",
      "execution_count": 71,
      "metadata": {
        "id": "nU7ekKhvVxH3"
      },
      "outputs": [],
      "source": [
        "import pandas as pd\n",
        "import numpy as np\n",
        "import datetime as dt\n",
        "import yfinance as yf\n",
        "import statsmodels.api as sm\n",
        "from dateutil.relativedelta import relativedelta\n"
      ]
    },
    {
      "cell_type": "markdown",
      "metadata": {
        "id": "tMflS-vBa-rr"
      },
      "source": [
        "\n",
        "**Step 3:- Downloading the data from yahoo finance for ADF testing**"
      ]
    },
    {
      "cell_type": "code",
      "execution_count": 72,
      "metadata": {
        "colab": {
          "base_uri": "https://localhost:8080/",
          "height": 524
        },
        "id": "OlGQSUm_V3Cp",
        "outputId": "8084ad3e-d05d-46f1-e14b-f6965112f08f"
      },
      "outputs": [
        {
          "output_type": "stream",
          "name": "stdout",
          "text": [
            "2021-10-18\n",
            "2022-08-18\n",
            "[*********************100%***********************]  1 of 1 completed\n",
            "[*********************100%***********************]  1 of 1 completed\n"
          ]
        },
        {
          "output_type": "execute_result",
          "data": {
            "text/plain": [
              "            TATAPOWER.NS  JSWENERGY.NS\n",
              "Date                                  \n",
              "2021-10-18     257.29999     391.85001\n",
              "2021-10-19     229.75000     379.20001\n",
              "2021-10-20     230.35001     376.20001\n",
              "2021-10-21     226.14999     370.95001\n",
              "2021-10-22     222.00000     380.85001\n",
              "...                  ...           ...\n",
              "2022-08-10     228.50000     321.20001\n",
              "2022-08-11     229.39999     317.64999\n",
              "2022-08-12     232.39999     320.04999\n",
              "2022-08-16     236.00000     333.54999\n",
              "2022-08-17     237.30000     332.20001\n",
              "\n",
              "[208 rows x 2 columns]"
            ],
            "text/html": [
              "\n",
              "  <div id=\"df-2548059e-5042-47ad-bbe4-5ff9ea28143e\">\n",
              "    <div class=\"colab-df-container\">\n",
              "      <div>\n",
              "<style scoped>\n",
              "    .dataframe tbody tr th:only-of-type {\n",
              "        vertical-align: middle;\n",
              "    }\n",
              "\n",
              "    .dataframe tbody tr th {\n",
              "        vertical-align: top;\n",
              "    }\n",
              "\n",
              "    .dataframe thead th {\n",
              "        text-align: right;\n",
              "    }\n",
              "</style>\n",
              "<table border=\"1\" class=\"dataframe\">\n",
              "  <thead>\n",
              "    <tr style=\"text-align: right;\">\n",
              "      <th></th>\n",
              "      <th>TATAPOWER.NS</th>\n",
              "      <th>JSWENERGY.NS</th>\n",
              "    </tr>\n",
              "    <tr>\n",
              "      <th>Date</th>\n",
              "      <th></th>\n",
              "      <th></th>\n",
              "    </tr>\n",
              "  </thead>\n",
              "  <tbody>\n",
              "    <tr>\n",
              "      <th>2021-10-18</th>\n",
              "      <td>257.29999</td>\n",
              "      <td>391.85001</td>\n",
              "    </tr>\n",
              "    <tr>\n",
              "      <th>2021-10-19</th>\n",
              "      <td>229.75000</td>\n",
              "      <td>379.20001</td>\n",
              "    </tr>\n",
              "    <tr>\n",
              "      <th>2021-10-20</th>\n",
              "      <td>230.35001</td>\n",
              "      <td>376.20001</td>\n",
              "    </tr>\n",
              "    <tr>\n",
              "      <th>2021-10-21</th>\n",
              "      <td>226.14999</td>\n",
              "      <td>370.95001</td>\n",
              "    </tr>\n",
              "    <tr>\n",
              "      <th>2021-10-22</th>\n",
              "      <td>222.00000</td>\n",
              "      <td>380.85001</td>\n",
              "    </tr>\n",
              "    <tr>\n",
              "      <th>...</th>\n",
              "      <td>...</td>\n",
              "      <td>...</td>\n",
              "    </tr>\n",
              "    <tr>\n",
              "      <th>2022-08-10</th>\n",
              "      <td>228.50000</td>\n",
              "      <td>321.20001</td>\n",
              "    </tr>\n",
              "    <tr>\n",
              "      <th>2022-08-11</th>\n",
              "      <td>229.39999</td>\n",
              "      <td>317.64999</td>\n",
              "    </tr>\n",
              "    <tr>\n",
              "      <th>2022-08-12</th>\n",
              "      <td>232.39999</td>\n",
              "      <td>320.04999</td>\n",
              "    </tr>\n",
              "    <tr>\n",
              "      <th>2022-08-16</th>\n",
              "      <td>236.00000</td>\n",
              "      <td>333.54999</td>\n",
              "    </tr>\n",
              "    <tr>\n",
              "      <th>2022-08-17</th>\n",
              "      <td>237.30000</td>\n",
              "      <td>332.20001</td>\n",
              "    </tr>\n",
              "  </tbody>\n",
              "</table>\n",
              "<p>208 rows × 2 columns</p>\n",
              "</div>\n",
              "      <button class=\"colab-df-convert\" onclick=\"convertToInteractive('df-2548059e-5042-47ad-bbe4-5ff9ea28143e')\"\n",
              "              title=\"Convert this dataframe to an interactive table.\"\n",
              "              style=\"display:none;\">\n",
              "        \n",
              "  <svg xmlns=\"http://www.w3.org/2000/svg\" height=\"24px\"viewBox=\"0 0 24 24\"\n",
              "       width=\"24px\">\n",
              "    <path d=\"M0 0h24v24H0V0z\" fill=\"none\"/>\n",
              "    <path d=\"M18.56 5.44l.94 2.06.94-2.06 2.06-.94-2.06-.94-.94-2.06-.94 2.06-2.06.94zm-11 1L8.5 8.5l.94-2.06 2.06-.94-2.06-.94L8.5 2.5l-.94 2.06-2.06.94zm10 10l.94 2.06.94-2.06 2.06-.94-2.06-.94-.94-2.06-.94 2.06-2.06.94z\"/><path d=\"M17.41 7.96l-1.37-1.37c-.4-.4-.92-.59-1.43-.59-.52 0-1.04.2-1.43.59L10.3 9.45l-7.72 7.72c-.78.78-.78 2.05 0 2.83L4 21.41c.39.39.9.59 1.41.59.51 0 1.02-.2 1.41-.59l7.78-7.78 2.81-2.81c.8-.78.8-2.07 0-2.86zM5.41 20L4 18.59l7.72-7.72 1.47 1.35L5.41 20z\"/>\n",
              "  </svg>\n",
              "      </button>\n",
              "      \n",
              "  <style>\n",
              "    .colab-df-container {\n",
              "      display:flex;\n",
              "      flex-wrap:wrap;\n",
              "      gap: 12px;\n",
              "    }\n",
              "\n",
              "    .colab-df-convert {\n",
              "      background-color: #E8F0FE;\n",
              "      border: none;\n",
              "      border-radius: 50%;\n",
              "      cursor: pointer;\n",
              "      display: none;\n",
              "      fill: #1967D2;\n",
              "      height: 32px;\n",
              "      padding: 0 0 0 0;\n",
              "      width: 32px;\n",
              "    }\n",
              "\n",
              "    .colab-df-convert:hover {\n",
              "      background-color: #E2EBFA;\n",
              "      box-shadow: 0px 1px 2px rgba(60, 64, 67, 0.3), 0px 1px 3px 1px rgba(60, 64, 67, 0.15);\n",
              "      fill: #174EA6;\n",
              "    }\n",
              "\n",
              "    [theme=dark] .colab-df-convert {\n",
              "      background-color: #3B4455;\n",
              "      fill: #D2E3FC;\n",
              "    }\n",
              "\n",
              "    [theme=dark] .colab-df-convert:hover {\n",
              "      background-color: #434B5C;\n",
              "      box-shadow: 0px 1px 3px 1px rgba(0, 0, 0, 0.15);\n",
              "      filter: drop-shadow(0px 1px 2px rgba(0, 0, 0, 0.3));\n",
              "      fill: #FFFFFF;\n",
              "    }\n",
              "  </style>\n",
              "\n",
              "      <script>\n",
              "        const buttonEl =\n",
              "          document.querySelector('#df-2548059e-5042-47ad-bbe4-5ff9ea28143e button.colab-df-convert');\n",
              "        buttonEl.style.display =\n",
              "          google.colab.kernel.accessAllowed ? 'block' : 'none';\n",
              "\n",
              "        async function convertToInteractive(key) {\n",
              "          const element = document.querySelector('#df-2548059e-5042-47ad-bbe4-5ff9ea28143e');\n",
              "          const dataTable =\n",
              "            await google.colab.kernel.invokeFunction('convertToInteractive',\n",
              "                                                     [key], {});\n",
              "          if (!dataTable) return;\n",
              "\n",
              "          const docLinkHtml = 'Like what you see? Visit the ' +\n",
              "            '<a target=\"_blank\" href=https://colab.research.google.com/notebooks/data_table.ipynb>data table notebook</a>'\n",
              "            + ' to learn more about interactive tables.';\n",
              "          element.innerHTML = '';\n",
              "          dataTable['output_type'] = 'display_data';\n",
              "          await google.colab.output.renderOutput(dataTable, element);\n",
              "          const docLink = document.createElement('div');\n",
              "          docLink.innerHTML = docLinkHtml;\n",
              "          element.appendChild(docLink);\n",
              "        }\n",
              "      </script>\n",
              "    </div>\n",
              "  </div>\n",
              "  "
            ]
          },
          "metadata": {},
          "execution_count": 72
        }
      ],
      "source": [
        "today1 = dt.datetime.today().strftime('%Y,%m,%d')\n",
        "\n",
        "start = (dt.datetime.today() + relativedelta(months=-12)).date()\n",
        "end = dt.datetime.today().date()\n",
        "\n",
        "print(start)\n",
        "print(end)\n",
        "\n",
        "\n",
        "\n",
        "tickers=[\n",
        "    'TATAPOWER.NS',\n",
        "     'JSWENERGY.NS'\n",
        "     ]\n",
        "\n",
        "DF =pd.DataFrame()\n",
        "\n",
        "for i in tickers:\n",
        "    df = yf.download(i,start,end,interval = \"1d\")[['Close']]\n",
        "    df.columns = [i]                         \n",
        "    DF = pd.concat([DF,df],axis =1)\n",
        "\n",
        "DF = DF.copy().round(5)\n",
        "DF"
      ]
    },
    {
      "cell_type": "markdown",
      "metadata": {
        "id": "T7FPtztSbITV"
      },
      "source": [
        "**Step 4:- Finding the Hedge Ratio**"
      ]
    },
    {
      "cell_type": "code",
      "execution_count": 73,
      "metadata": {
        "colab": {
          "base_uri": "https://localhost:8080/",
          "height": 35
        },
        "id": "ZnqQsgKRWNsT",
        "outputId": "2c5ddf26-e77f-470f-b441-655f3d8982b0"
      },
      "outputs": [
        {
          "output_type": "execute_result",
          "data": {
            "text/plain": [
              "'The hedge ratio is 0.77'"
            ],
            "application/vnd.google.colaboratory.intrinsic+json": {
              "type": "string"
            }
          },
          "metadata": {},
          "execution_count": 73
        }
      ],
      "source": [
        "model = sm.OLS(DF[\"TATAPOWER.NS\"],DF['JSWENERGY.NS'])\n",
        "model = model.fit() \n",
        "'The hedge ratio is %.2f' % model.params[0]"
      ]
    },
    {
      "cell_type": "markdown",
      "metadata": {
        "id": "YlmEENfEbPH1"
      },
      "source": [
        "**Step 5:Adding a new column with calculated spread value**\n",
        "\n",
        "---\n",
        "\n"
      ]
    },
    {
      "cell_type": "code",
      "execution_count": 74,
      "metadata": {
        "colab": {
          "base_uri": "https://localhost:8080/",
          "height": 455
        },
        "id": "w3UhU14GWvsa",
        "outputId": "e5d82ac1-425b-466e-bc30-815c81a86c26"
      },
      "outputs": [
        {
          "output_type": "execute_result",
          "data": {
            "text/plain": [
              "            TATAPOWER.NS  JSWENERGY.NS     Spread\n",
              "Date                                             \n",
              "2021-10-18     257.29999     391.85001 -45.232704\n",
              "2021-10-19     229.75000     379.20001 -63.016104\n",
              "2021-10-20     230.35001     376.20001 -60.099906\n",
              "2021-10-21     226.14999     370.95001 -60.246598\n",
              "2021-10-22     222.00000     380.85001 -72.040007\n",
              "...                  ...           ...        ...\n",
              "2022-08-10     228.50000     321.20001 -19.486479\n",
              "2022-08-11     229.39999     317.64999 -15.845652\n",
              "2022-08-12     232.39999     320.04999 -14.698602\n",
              "2022-08-16     236.00000     333.54999 -21.521436\n",
              "2022-08-17     237.30000     332.20001 -19.179167\n",
              "\n",
              "[208 rows x 3 columns]"
            ],
            "text/html": [
              "\n",
              "  <div id=\"df-a66342e6-75c1-4009-acf5-7386e7ae4289\">\n",
              "    <div class=\"colab-df-container\">\n",
              "      <div>\n",
              "<style scoped>\n",
              "    .dataframe tbody tr th:only-of-type {\n",
              "        vertical-align: middle;\n",
              "    }\n",
              "\n",
              "    .dataframe tbody tr th {\n",
              "        vertical-align: top;\n",
              "    }\n",
              "\n",
              "    .dataframe thead th {\n",
              "        text-align: right;\n",
              "    }\n",
              "</style>\n",
              "<table border=\"1\" class=\"dataframe\">\n",
              "  <thead>\n",
              "    <tr style=\"text-align: right;\">\n",
              "      <th></th>\n",
              "      <th>TATAPOWER.NS</th>\n",
              "      <th>JSWENERGY.NS</th>\n",
              "      <th>Spread</th>\n",
              "    </tr>\n",
              "    <tr>\n",
              "      <th>Date</th>\n",
              "      <th></th>\n",
              "      <th></th>\n",
              "      <th></th>\n",
              "    </tr>\n",
              "  </thead>\n",
              "  <tbody>\n",
              "    <tr>\n",
              "      <th>2021-10-18</th>\n",
              "      <td>257.29999</td>\n",
              "      <td>391.85001</td>\n",
              "      <td>-45.232704</td>\n",
              "    </tr>\n",
              "    <tr>\n",
              "      <th>2021-10-19</th>\n",
              "      <td>229.75000</td>\n",
              "      <td>379.20001</td>\n",
              "      <td>-63.016104</td>\n",
              "    </tr>\n",
              "    <tr>\n",
              "      <th>2021-10-20</th>\n",
              "      <td>230.35001</td>\n",
              "      <td>376.20001</td>\n",
              "      <td>-60.099906</td>\n",
              "    </tr>\n",
              "    <tr>\n",
              "      <th>2021-10-21</th>\n",
              "      <td>226.14999</td>\n",
              "      <td>370.95001</td>\n",
              "      <td>-60.246598</td>\n",
              "    </tr>\n",
              "    <tr>\n",
              "      <th>2021-10-22</th>\n",
              "      <td>222.00000</td>\n",
              "      <td>380.85001</td>\n",
              "      <td>-72.040007</td>\n",
              "    </tr>\n",
              "    <tr>\n",
              "      <th>...</th>\n",
              "      <td>...</td>\n",
              "      <td>...</td>\n",
              "      <td>...</td>\n",
              "    </tr>\n",
              "    <tr>\n",
              "      <th>2022-08-10</th>\n",
              "      <td>228.50000</td>\n",
              "      <td>321.20001</td>\n",
              "      <td>-19.486479</td>\n",
              "    </tr>\n",
              "    <tr>\n",
              "      <th>2022-08-11</th>\n",
              "      <td>229.39999</td>\n",
              "      <td>317.64999</td>\n",
              "      <td>-15.845652</td>\n",
              "    </tr>\n",
              "    <tr>\n",
              "      <th>2022-08-12</th>\n",
              "      <td>232.39999</td>\n",
              "      <td>320.04999</td>\n",
              "      <td>-14.698602</td>\n",
              "    </tr>\n",
              "    <tr>\n",
              "      <th>2022-08-16</th>\n",
              "      <td>236.00000</td>\n",
              "      <td>333.54999</td>\n",
              "      <td>-21.521436</td>\n",
              "    </tr>\n",
              "    <tr>\n",
              "      <th>2022-08-17</th>\n",
              "      <td>237.30000</td>\n",
              "      <td>332.20001</td>\n",
              "      <td>-19.179167</td>\n",
              "    </tr>\n",
              "  </tbody>\n",
              "</table>\n",
              "<p>208 rows × 3 columns</p>\n",
              "</div>\n",
              "      <button class=\"colab-df-convert\" onclick=\"convertToInteractive('df-a66342e6-75c1-4009-acf5-7386e7ae4289')\"\n",
              "              title=\"Convert this dataframe to an interactive table.\"\n",
              "              style=\"display:none;\">\n",
              "        \n",
              "  <svg xmlns=\"http://www.w3.org/2000/svg\" height=\"24px\"viewBox=\"0 0 24 24\"\n",
              "       width=\"24px\">\n",
              "    <path d=\"M0 0h24v24H0V0z\" fill=\"none\"/>\n",
              "    <path d=\"M18.56 5.44l.94 2.06.94-2.06 2.06-.94-2.06-.94-.94-2.06-.94 2.06-2.06.94zm-11 1L8.5 8.5l.94-2.06 2.06-.94-2.06-.94L8.5 2.5l-.94 2.06-2.06.94zm10 10l.94 2.06.94-2.06 2.06-.94-2.06-.94-.94-2.06-.94 2.06-2.06.94z\"/><path d=\"M17.41 7.96l-1.37-1.37c-.4-.4-.92-.59-1.43-.59-.52 0-1.04.2-1.43.59L10.3 9.45l-7.72 7.72c-.78.78-.78 2.05 0 2.83L4 21.41c.39.39.9.59 1.41.59.51 0 1.02-.2 1.41-.59l7.78-7.78 2.81-2.81c.8-.78.8-2.07 0-2.86zM5.41 20L4 18.59l7.72-7.72 1.47 1.35L5.41 20z\"/>\n",
              "  </svg>\n",
              "      </button>\n",
              "      \n",
              "  <style>\n",
              "    .colab-df-container {\n",
              "      display:flex;\n",
              "      flex-wrap:wrap;\n",
              "      gap: 12px;\n",
              "    }\n",
              "\n",
              "    .colab-df-convert {\n",
              "      background-color: #E8F0FE;\n",
              "      border: none;\n",
              "      border-radius: 50%;\n",
              "      cursor: pointer;\n",
              "      display: none;\n",
              "      fill: #1967D2;\n",
              "      height: 32px;\n",
              "      padding: 0 0 0 0;\n",
              "      width: 32px;\n",
              "    }\n",
              "\n",
              "    .colab-df-convert:hover {\n",
              "      background-color: #E2EBFA;\n",
              "      box-shadow: 0px 1px 2px rgba(60, 64, 67, 0.3), 0px 1px 3px 1px rgba(60, 64, 67, 0.15);\n",
              "      fill: #174EA6;\n",
              "    }\n",
              "\n",
              "    [theme=dark] .colab-df-convert {\n",
              "      background-color: #3B4455;\n",
              "      fill: #D2E3FC;\n",
              "    }\n",
              "\n",
              "    [theme=dark] .colab-df-convert:hover {\n",
              "      background-color: #434B5C;\n",
              "      box-shadow: 0px 1px 3px 1px rgba(0, 0, 0, 0.15);\n",
              "      filter: drop-shadow(0px 1px 2px rgba(0, 0, 0, 0.3));\n",
              "      fill: #FFFFFF;\n",
              "    }\n",
              "  </style>\n",
              "\n",
              "      <script>\n",
              "        const buttonEl =\n",
              "          document.querySelector('#df-a66342e6-75c1-4009-acf5-7386e7ae4289 button.colab-df-convert');\n",
              "        buttonEl.style.display =\n",
              "          google.colab.kernel.accessAllowed ? 'block' : 'none';\n",
              "\n",
              "        async function convertToInteractive(key) {\n",
              "          const element = document.querySelector('#df-a66342e6-75c1-4009-acf5-7386e7ae4289');\n",
              "          const dataTable =\n",
              "            await google.colab.kernel.invokeFunction('convertToInteractive',\n",
              "                                                     [key], {});\n",
              "          if (!dataTable) return;\n",
              "\n",
              "          const docLinkHtml = 'Like what you see? Visit the ' +\n",
              "            '<a target=\"_blank\" href=https://colab.research.google.com/notebooks/data_table.ipynb>data table notebook</a>'\n",
              "            + ' to learn more about interactive tables.';\n",
              "          element.innerHTML = '';\n",
              "          dataTable['output_type'] = 'display_data';\n",
              "          await google.colab.output.renderOutput(dataTable, element);\n",
              "          const docLink = document.createElement('div');\n",
              "          docLink.innerHTML = docLinkHtml;\n",
              "          element.appendChild(docLink);\n",
              "        }\n",
              "      </script>\n",
              "    </div>\n",
              "  </div>\n",
              "  "
            ]
          },
          "metadata": {},
          "execution_count": 74
        }
      ],
      "source": [
        "DF['Spread'] = DF.iloc[:,0] - model.params[0] * DF.iloc[:,1]\n",
        "DF"
      ]
    },
    {
      "cell_type": "markdown",
      "metadata": {
        "id": "YAuY2jfNbc0c"
      },
      "source": [
        "**Step 6:- Finding the T-Stat value.**"
      ]
    },
    {
      "cell_type": "code",
      "execution_count": 75,
      "metadata": {
        "colab": {
          "base_uri": "https://localhost:8080/"
        },
        "id": "43-sa1BTW5vG",
        "outputId": "7ab81641-7bdf-41c8-c7d8-6620b32a650f"
      },
      "outputs": [
        {
          "output_type": "execute_result",
          "data": {
            "text/plain": [
              "-2.7081971611069897"
            ]
          },
          "metadata": {},
          "execution_count": 75
        }
      ],
      "source": [
        "# To perform ADF Test\n",
        "from statsmodels.tsa.stattools import adfuller\n",
        "# Compute ADF test statistics\n",
        "adf = adfuller(DF.Spread, maxlag = 1)\n",
        "adf[0]"
      ]
    },
    {
      "cell_type": "markdown",
      "metadata": {
        "id": "Rp-KfGOUv6PJ"
      },
      "source": [
        "99% confidence -3.44\t\n",
        "95% Confidence -2.86\t\n",
        "90% Confidence  -2.56\n",
        "\n",
        "\t          \t          "
      ]
    },
    {
      "cell_type": "code",
      "execution_count": 75,
      "metadata": {
        "id": "_HgLxH2whgKo"
      },
      "outputs": [],
      "source": [
        ""
      ]
    }
  ],
  "metadata": {
    "colab": {
      "collapsed_sections": [],
      "name": "ADF Testing.ipynb",
      "provenance": [],
      "include_colab_link": true
    },
    "kernelspec": {
      "display_name": "Python 3",
      "name": "python3"
    }
  },
  "nbformat": 4,
  "nbformat_minor": 0
}