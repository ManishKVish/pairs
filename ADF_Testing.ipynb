{
  "cells": [
    {
      "cell_type": "markdown",
      "metadata": {
        "id": "view-in-github",
        "colab_type": "text"
      },
      "source": [
        "<a href=\"https://colab.research.google.com/github/ManishKVish/pairs/blob/main/ADF_Testing.ipynb\" target=\"_parent\"><img src=\"https://colab.research.google.com/assets/colab-badge.svg\" alt=\"Open In Colab\"/></a>"
      ]
    },
    {
      "cell_type": "markdown",
      "metadata": {
        "id": "zt_1xLk-arEu"
      },
      "source": [
        "\n",
        "\n",
        "```\n",
        "# This is formatted as code\n",
        "```\n",
        "\n",
        "**Step 1- Install libraries.**"
      ]
    },
    {
      "cell_type": "code",
      "execution_count": 1,
      "metadata": {
        "id": "-AnOt59qZ8v0",
        "colab": {
          "base_uri": "https://localhost:8080/"
        },
        "outputId": "41fef89e-9843-4d96-be39-f31563f3aa2a"
      },
      "outputs": [
        {
          "output_type": "stream",
          "name": "stdout",
          "text": [
            "Looking in indexes: https://pypi.org/simple, https://us-python.pkg.dev/colab-wheels/public/simple/\n",
            "Requirement already satisfied: numpy in /usr/local/lib/python3.7/dist-packages (1.21.6)\n",
            "Looking in indexes: https://pypi.org/simple, https://us-python.pkg.dev/colab-wheels/public/simple/\n",
            "Requirement already satisfied: pandas in /usr/local/lib/python3.7/dist-packages (1.3.5)\n",
            "Requirement already satisfied: numpy>=1.17.3 in /usr/local/lib/python3.7/dist-packages (from pandas) (1.21.6)\n",
            "Requirement already satisfied: python-dateutil>=2.7.3 in /usr/local/lib/python3.7/dist-packages (from pandas) (2.8.2)\n",
            "Requirement already satisfied: pytz>=2017.3 in /usr/local/lib/python3.7/dist-packages (from pandas) (2022.2.1)\n",
            "Requirement already satisfied: six>=1.5 in /usr/local/lib/python3.7/dist-packages (from python-dateutil>=2.7.3->pandas) (1.15.0)\n",
            "Looking in indexes: https://pypi.org/simple, https://us-python.pkg.dev/colab-wheels/public/simple/\n",
            "Requirement already satisfied: matplotlib in /usr/local/lib/python3.7/dist-packages (3.2.2)\n",
            "Requirement already satisfied: numpy>=1.11 in /usr/local/lib/python3.7/dist-packages (from matplotlib) (1.21.6)\n",
            "Requirement already satisfied: cycler>=0.10 in /usr/local/lib/python3.7/dist-packages (from matplotlib) (0.11.0)\n",
            "Requirement already satisfied: python-dateutil>=2.1 in /usr/local/lib/python3.7/dist-packages (from matplotlib) (2.8.2)\n",
            "Requirement already satisfied: pyparsing!=2.0.4,!=2.1.2,!=2.1.6,>=2.0.1 in /usr/local/lib/python3.7/dist-packages (from matplotlib) (3.0.9)\n",
            "Requirement already satisfied: kiwisolver>=1.0.1 in /usr/local/lib/python3.7/dist-packages (from matplotlib) (1.4.4)\n",
            "Requirement already satisfied: typing-extensions in /usr/local/lib/python3.7/dist-packages (from kiwisolver>=1.0.1->matplotlib) (4.1.1)\n",
            "Requirement already satisfied: six>=1.5 in /usr/local/lib/python3.7/dist-packages (from python-dateutil>=2.1->matplotlib) (1.15.0)\n",
            "Looking in indexes: https://pypi.org/simple, https://us-python.pkg.dev/colab-wheels/public/simple/\n",
            "Collecting yfinance\n",
            "  Downloading yfinance-0.1.74-py2.py3-none-any.whl (27 kB)\n",
            "Requirement already satisfied: multitasking>=0.0.7 in /usr/local/lib/python3.7/dist-packages (from yfinance) (0.0.11)\n",
            "Requirement already satisfied: lxml>=4.5.1 in /usr/local/lib/python3.7/dist-packages (from yfinance) (4.9.1)\n",
            "Requirement already satisfied: numpy>=1.15 in /usr/local/lib/python3.7/dist-packages (from yfinance) (1.21.6)\n",
            "Collecting requests>=2.26\n",
            "  Downloading requests-2.28.1-py3-none-any.whl (62 kB)\n",
            "\u001b[K     |████████████████████████████████| 62 kB 880 kB/s \n",
            "\u001b[?25hRequirement already satisfied: pandas>=0.24.0 in /usr/local/lib/python3.7/dist-packages (from yfinance) (1.3.5)\n",
            "Requirement already satisfied: pytz>=2017.3 in /usr/local/lib/python3.7/dist-packages (from pandas>=0.24.0->yfinance) (2022.2.1)\n",
            "Requirement already satisfied: python-dateutil>=2.7.3 in /usr/local/lib/python3.7/dist-packages (from pandas>=0.24.0->yfinance) (2.8.2)\n",
            "Requirement already satisfied: six>=1.5 in /usr/local/lib/python3.7/dist-packages (from python-dateutil>=2.7.3->pandas>=0.24.0->yfinance) (1.15.0)\n",
            "Requirement already satisfied: certifi>=2017.4.17 in /usr/local/lib/python3.7/dist-packages (from requests>=2.26->yfinance) (2022.6.15)\n",
            "Requirement already satisfied: charset-normalizer<3,>=2 in /usr/local/lib/python3.7/dist-packages (from requests>=2.26->yfinance) (2.1.0)\n",
            "Requirement already satisfied: idna<4,>=2.5 in /usr/local/lib/python3.7/dist-packages (from requests>=2.26->yfinance) (2.10)\n",
            "Requirement already satisfied: urllib3<1.27,>=1.21.1 in /usr/local/lib/python3.7/dist-packages (from requests>=2.26->yfinance) (1.24.3)\n",
            "Installing collected packages: requests, yfinance\n",
            "  Attempting uninstall: requests\n",
            "    Found existing installation: requests 2.23.0\n",
            "    Uninstalling requests-2.23.0:\n",
            "      Successfully uninstalled requests-2.23.0\n",
            "Successfully installed requests-2.28.1 yfinance-0.1.74\n",
            "Looking in indexes: https://pypi.org/simple, https://us-python.pkg.dev/colab-wheels/public/simple/\n",
            "Collecting datetime\n",
            "  Downloading DateTime-4.5-py2.py3-none-any.whl (52 kB)\n",
            "\u001b[K     |████████████████████████████████| 52 kB 734 kB/s \n",
            "\u001b[?25hCollecting zope.interface\n",
            "  Downloading zope.interface-5.4.0-cp37-cp37m-manylinux2010_x86_64.whl (251 kB)\n",
            "\u001b[K     |████████████████████████████████| 251 kB 36.8 MB/s \n",
            "\u001b[?25hRequirement already satisfied: pytz in /usr/local/lib/python3.7/dist-packages (from datetime) (2022.2.1)\n",
            "Requirement already satisfied: setuptools in /usr/local/lib/python3.7/dist-packages (from zope.interface->datetime) (57.4.0)\n",
            "Installing collected packages: zope.interface, datetime\n",
            "Successfully installed datetime-4.5 zope.interface-5.4.0\n"
          ]
        }
      ],
      "source": [
        "\n",
        "!pip install numpy\n",
        "!pip install pandas\n",
        "!pip install matplotlib\n",
        "!pip install yfinance\n",
        "!pip install datetime"
      ]
    },
    {
      "cell_type": "markdown",
      "metadata": {
        "id": "LuRgczCkazef"
      },
      "source": [
        "# **Step 2:- Call mandatory libraries**"
      ]
    },
    {
      "cell_type": "code",
      "execution_count": 2,
      "metadata": {
        "id": "nU7ekKhvVxH3"
      },
      "outputs": [],
      "source": [
        "import pandas as pd\n",
        "import numpy as np\n",
        "import datetime as dt\n",
        "import yfinance as yf\n",
        "import statsmodels.api as sm\n",
        "from dateutil.relativedelta import relativedelta\n"
      ]
    },
    {
      "cell_type": "markdown",
      "metadata": {
        "id": "tMflS-vBa-rr"
      },
      "source": [
        "\n",
        "**Step 3:- Downloading the data from yahoo finance for ADF testing**"
      ]
    },
    {
      "cell_type": "code",
      "execution_count": 3,
      "metadata": {
        "colab": {
          "base_uri": "https://localhost:8080/",
          "height": 524
        },
        "id": "OlGQSUm_V3Cp",
        "outputId": "bd870a8e-2c3a-4e94-968c-873217e56e0d"
      },
      "outputs": [
        {
          "output_type": "stream",
          "name": "stdout",
          "text": [
            "2021-09-21\n",
            "2022-08-21\n",
            "[*********************100%***********************]  1 of 1 completed\n",
            "[*********************100%***********************]  1 of 1 completed\n"
          ]
        },
        {
          "output_type": "execute_result",
          "data": {
            "text/plain": [
              "            DIVISLAB.NS  DRREDDY.NS\n",
              "Date                               \n",
              "2021-09-21   5179.45020   4853.6499\n",
              "2021-09-22   5139.89990   4846.3501\n",
              "2021-09-23   5212.10010   4797.2998\n",
              "2021-09-24   5108.54980   4790.3501\n",
              "2021-09-27   4932.54980   4791.6499\n",
              "...                 ...         ...\n",
              "2022-08-12   3726.19995   4260.7998\n",
              "2022-08-16   3732.00000   4297.7998\n",
              "2022-08-17   3748.39990   4315.8999\n",
              "2022-08-18   3743.60010   4225.1001\n",
              "2022-08-19   3696.19995   4204.0000\n",
              "\n",
              "[228 rows x 2 columns]"
            ],
            "text/html": [
              "\n",
              "  <div id=\"df-79d9405b-7ce6-4c32-8a1b-97ebf993606a\">\n",
              "    <div class=\"colab-df-container\">\n",
              "      <div>\n",
              "<style scoped>\n",
              "    .dataframe tbody tr th:only-of-type {\n",
              "        vertical-align: middle;\n",
              "    }\n",
              "\n",
              "    .dataframe tbody tr th {\n",
              "        vertical-align: top;\n",
              "    }\n",
              "\n",
              "    .dataframe thead th {\n",
              "        text-align: right;\n",
              "    }\n",
              "</style>\n",
              "<table border=\"1\" class=\"dataframe\">\n",
              "  <thead>\n",
              "    <tr style=\"text-align: right;\">\n",
              "      <th></th>\n",
              "      <th>DIVISLAB.NS</th>\n",
              "      <th>DRREDDY.NS</th>\n",
              "    </tr>\n",
              "    <tr>\n",
              "      <th>Date</th>\n",
              "      <th></th>\n",
              "      <th></th>\n",
              "    </tr>\n",
              "  </thead>\n",
              "  <tbody>\n",
              "    <tr>\n",
              "      <th>2021-09-21</th>\n",
              "      <td>5179.45020</td>\n",
              "      <td>4853.6499</td>\n",
              "    </tr>\n",
              "    <tr>\n",
              "      <th>2021-09-22</th>\n",
              "      <td>5139.89990</td>\n",
              "      <td>4846.3501</td>\n",
              "    </tr>\n",
              "    <tr>\n",
              "      <th>2021-09-23</th>\n",
              "      <td>5212.10010</td>\n",
              "      <td>4797.2998</td>\n",
              "    </tr>\n",
              "    <tr>\n",
              "      <th>2021-09-24</th>\n",
              "      <td>5108.54980</td>\n",
              "      <td>4790.3501</td>\n",
              "    </tr>\n",
              "    <tr>\n",
              "      <th>2021-09-27</th>\n",
              "      <td>4932.54980</td>\n",
              "      <td>4791.6499</td>\n",
              "    </tr>\n",
              "    <tr>\n",
              "      <th>...</th>\n",
              "      <td>...</td>\n",
              "      <td>...</td>\n",
              "    </tr>\n",
              "    <tr>\n",
              "      <th>2022-08-12</th>\n",
              "      <td>3726.19995</td>\n",
              "      <td>4260.7998</td>\n",
              "    </tr>\n",
              "    <tr>\n",
              "      <th>2022-08-16</th>\n",
              "      <td>3732.00000</td>\n",
              "      <td>4297.7998</td>\n",
              "    </tr>\n",
              "    <tr>\n",
              "      <th>2022-08-17</th>\n",
              "      <td>3748.39990</td>\n",
              "      <td>4315.8999</td>\n",
              "    </tr>\n",
              "    <tr>\n",
              "      <th>2022-08-18</th>\n",
              "      <td>3743.60010</td>\n",
              "      <td>4225.1001</td>\n",
              "    </tr>\n",
              "    <tr>\n",
              "      <th>2022-08-19</th>\n",
              "      <td>3696.19995</td>\n",
              "      <td>4204.0000</td>\n",
              "    </tr>\n",
              "  </tbody>\n",
              "</table>\n",
              "<p>228 rows × 2 columns</p>\n",
              "</div>\n",
              "      <button class=\"colab-df-convert\" onclick=\"convertToInteractive('df-79d9405b-7ce6-4c32-8a1b-97ebf993606a')\"\n",
              "              title=\"Convert this dataframe to an interactive table.\"\n",
              "              style=\"display:none;\">\n",
              "        \n",
              "  <svg xmlns=\"http://www.w3.org/2000/svg\" height=\"24px\"viewBox=\"0 0 24 24\"\n",
              "       width=\"24px\">\n",
              "    <path d=\"M0 0h24v24H0V0z\" fill=\"none\"/>\n",
              "    <path d=\"M18.56 5.44l.94 2.06.94-2.06 2.06-.94-2.06-.94-.94-2.06-.94 2.06-2.06.94zm-11 1L8.5 8.5l.94-2.06 2.06-.94-2.06-.94L8.5 2.5l-.94 2.06-2.06.94zm10 10l.94 2.06.94-2.06 2.06-.94-2.06-.94-.94-2.06-.94 2.06-2.06.94z\"/><path d=\"M17.41 7.96l-1.37-1.37c-.4-.4-.92-.59-1.43-.59-.52 0-1.04.2-1.43.59L10.3 9.45l-7.72 7.72c-.78.78-.78 2.05 0 2.83L4 21.41c.39.39.9.59 1.41.59.51 0 1.02-.2 1.41-.59l7.78-7.78 2.81-2.81c.8-.78.8-2.07 0-2.86zM5.41 20L4 18.59l7.72-7.72 1.47 1.35L5.41 20z\"/>\n",
              "  </svg>\n",
              "      </button>\n",
              "      \n",
              "  <style>\n",
              "    .colab-df-container {\n",
              "      display:flex;\n",
              "      flex-wrap:wrap;\n",
              "      gap: 12px;\n",
              "    }\n",
              "\n",
              "    .colab-df-convert {\n",
              "      background-color: #E8F0FE;\n",
              "      border: none;\n",
              "      border-radius: 50%;\n",
              "      cursor: pointer;\n",
              "      display: none;\n",
              "      fill: #1967D2;\n",
              "      height: 32px;\n",
              "      padding: 0 0 0 0;\n",
              "      width: 32px;\n",
              "    }\n",
              "\n",
              "    .colab-df-convert:hover {\n",
              "      background-color: #E2EBFA;\n",
              "      box-shadow: 0px 1px 2px rgba(60, 64, 67, 0.3), 0px 1px 3px 1px rgba(60, 64, 67, 0.15);\n",
              "      fill: #174EA6;\n",
              "    }\n",
              "\n",
              "    [theme=dark] .colab-df-convert {\n",
              "      background-color: #3B4455;\n",
              "      fill: #D2E3FC;\n",
              "    }\n",
              "\n",
              "    [theme=dark] .colab-df-convert:hover {\n",
              "      background-color: #434B5C;\n",
              "      box-shadow: 0px 1px 3px 1px rgba(0, 0, 0, 0.15);\n",
              "      filter: drop-shadow(0px 1px 2px rgba(0, 0, 0, 0.3));\n",
              "      fill: #FFFFFF;\n",
              "    }\n",
              "  </style>\n",
              "\n",
              "      <script>\n",
              "        const buttonEl =\n",
              "          document.querySelector('#df-79d9405b-7ce6-4c32-8a1b-97ebf993606a button.colab-df-convert');\n",
              "        buttonEl.style.display =\n",
              "          google.colab.kernel.accessAllowed ? 'block' : 'none';\n",
              "\n",
              "        async function convertToInteractive(key) {\n",
              "          const element = document.querySelector('#df-79d9405b-7ce6-4c32-8a1b-97ebf993606a');\n",
              "          const dataTable =\n",
              "            await google.colab.kernel.invokeFunction('convertToInteractive',\n",
              "                                                     [key], {});\n",
              "          if (!dataTable) return;\n",
              "\n",
              "          const docLinkHtml = 'Like what you see? Visit the ' +\n",
              "            '<a target=\"_blank\" href=https://colab.research.google.com/notebooks/data_table.ipynb>data table notebook</a>'\n",
              "            + ' to learn more about interactive tables.';\n",
              "          element.innerHTML = '';\n",
              "          dataTable['output_type'] = 'display_data';\n",
              "          await google.colab.output.renderOutput(dataTable, element);\n",
              "          const docLink = document.createElement('div');\n",
              "          docLink.innerHTML = docLinkHtml;\n",
              "          element.appendChild(docLink);\n",
              "        }\n",
              "      </script>\n",
              "    </div>\n",
              "  </div>\n",
              "  "
            ]
          },
          "metadata": {},
          "execution_count": 3
        }
      ],
      "source": [
        "today1 = dt.datetime.today().strftime('%Y,%m,%d')\n",
        "\n",
        "#start = dt.datetime(2021,6,1).date()\n",
        "#end = dt.datetime(2021,8,28).date()\n",
        "\n",
        "#############################################################\n",
        "#OLD DATE\n",
        "start = (dt.datetime.today() + relativedelta(months=-11)).date()\n",
        "\n",
        "#TODAYS DATE\n",
        "end = dt.datetime.today().date()\n",
        "#############################################################\n",
        "\n",
        "print(start)\n",
        "print(end)\n",
        "\n",
        "#STOCK1= \"TATASTEEL.NS\"\n",
        "#STOCK2= \"HINDALCO.NS\"\n",
        "\n",
        "#STOCK1= \"JSWSTEEL.NS\"\n",
        "#STOCK2= \"HINDALCO.NS\"\n",
        "\n",
        "#STOCK1= \"ONGC.NS\"\n",
        "#STOCK2= \"GAIL.NS\"\n",
        "\n",
        "#STOCK1= \"DLF.NS\"\n",
        "#STOCK2= \"GODREJPROP.NS\"\n",
        "\n",
        "\n",
        "#STOCK1= \"ULTRACEMCO.NS\"\n",
        "#STOCK2= \"GRASIM.NS\"\n",
        "\n",
        "\n",
        "\n",
        "#STOCK1= \"ULTRACEMCO.NS\"\n",
        "#STOCK2= \"SHREECEM.NS\"\n",
        "\n",
        "\n",
        "#STOCK1= \"BAJAJ-AUTO.NS\"\n",
        "#STOCK2= \"heromotoco.NS\"\n",
        "\n",
        "\n",
        "#STOCK1= \"TVSMOTOR.NS\"\n",
        "#STOCK2= \"heromotoco.NS\"\n",
        "\n",
        "STOCK1= \"DIVISLAB.NS\"\n",
        "STOCK2= \"DRREDDY.NS\"\n",
        "\n",
        "tickers=[\n",
        "    STOCK1,\n",
        "     STOCK2\n",
        "     ]\n",
        "\n",
        "DF =pd.DataFrame()\n",
        "\n",
        "for i in tickers:\n",
        "    df = yf.download(i,start,end,interval = \"1d\")[['Close']]\n",
        "    df.columns = [i]                         \n",
        "    DF = pd.concat([DF,df],axis =1)\n",
        "\n",
        "DF = DF.copy().round(5)\n",
        "DF"
      ]
    },
    {
      "cell_type": "markdown",
      "metadata": {
        "id": "T7FPtztSbITV"
      },
      "source": [
        "**Step 4:- Finding the Hedge Ratio**"
      ]
    },
    {
      "cell_type": "code",
      "execution_count": 4,
      "metadata": {
        "colab": {
          "base_uri": "https://localhost:8080/",
          "height": 35
        },
        "id": "ZnqQsgKRWNsT",
        "outputId": "e65d60f3-19a4-49f5-8ea0-44f2dff786fd"
      },
      "outputs": [
        {
          "output_type": "execute_result",
          "data": {
            "text/plain": [
              "'The hedge ratio is 0.98'"
            ],
            "application/vnd.google.colaboratory.intrinsic+json": {
              "type": "string"
            }
          },
          "metadata": {},
          "execution_count": 4
        }
      ],
      "source": [
        "model = sm.OLS(DF[STOCK1],DF[STOCK2])\n",
        "model = model.fit() \n",
        "'The hedge ratio is %.2f' % model.params[0]"
      ]
    },
    {
      "cell_type": "markdown",
      "metadata": {
        "id": "YlmEENfEbPH1"
      },
      "source": [
        "**Step 5:Adding a new column with calculated spread value**\n",
        "\n",
        "---\n",
        "\n"
      ]
    },
    {
      "cell_type": "code",
      "execution_count": 5,
      "metadata": {
        "id": "w3UhU14GWvsa",
        "outputId": "781ecdda-3fa7-4e8a-f70a-921b9a12d681",
        "colab": {
          "base_uri": "https://localhost:8080/",
          "height": 455
        }
      },
      "outputs": [
        {
          "output_type": "execute_result",
          "data": {
            "text/plain": [
              "            DIVISLAB.NS  DRREDDY.NS      Spread\n",
              "Date                                           \n",
              "2021-09-21   5179.45020   4853.6499  419.828453\n",
              "2021-09-22   5139.89990   4846.3501  387.436536\n",
              "2021-09-23   5212.10010   4797.2998  507.736801\n",
              "2021-09-24   5108.54980   4790.3501  411.001567\n",
              "2021-09-27   4932.54980   4791.6499  233.726947\n",
              "...                 ...         ...         ...\n",
              "2022-08-12   3726.19995   4260.7998 -452.056786\n",
              "2022-08-16   3732.00000   4297.7998 -482.539947\n",
              "2022-08-17   3748.39990   4315.8999 -483.889500\n",
              "2022-08-18   3743.60010   4225.1001 -399.648535\n",
              "2022-08-19   3696.19995   4204.0000 -426.357350\n",
              "\n",
              "[228 rows x 3 columns]"
            ],
            "text/html": [
              "\n",
              "  <div id=\"df-58902cf3-ce41-41e2-9a57-a01526779401\">\n",
              "    <div class=\"colab-df-container\">\n",
              "      <div>\n",
              "<style scoped>\n",
              "    .dataframe tbody tr th:only-of-type {\n",
              "        vertical-align: middle;\n",
              "    }\n",
              "\n",
              "    .dataframe tbody tr th {\n",
              "        vertical-align: top;\n",
              "    }\n",
              "\n",
              "    .dataframe thead th {\n",
              "        text-align: right;\n",
              "    }\n",
              "</style>\n",
              "<table border=\"1\" class=\"dataframe\">\n",
              "  <thead>\n",
              "    <tr style=\"text-align: right;\">\n",
              "      <th></th>\n",
              "      <th>DIVISLAB.NS</th>\n",
              "      <th>DRREDDY.NS</th>\n",
              "      <th>Spread</th>\n",
              "    </tr>\n",
              "    <tr>\n",
              "      <th>Date</th>\n",
              "      <th></th>\n",
              "      <th></th>\n",
              "      <th></th>\n",
              "    </tr>\n",
              "  </thead>\n",
              "  <tbody>\n",
              "    <tr>\n",
              "      <th>2021-09-21</th>\n",
              "      <td>5179.45020</td>\n",
              "      <td>4853.6499</td>\n",
              "      <td>419.828453</td>\n",
              "    </tr>\n",
              "    <tr>\n",
              "      <th>2021-09-22</th>\n",
              "      <td>5139.89990</td>\n",
              "      <td>4846.3501</td>\n",
              "      <td>387.436536</td>\n",
              "    </tr>\n",
              "    <tr>\n",
              "      <th>2021-09-23</th>\n",
              "      <td>5212.10010</td>\n",
              "      <td>4797.2998</td>\n",
              "      <td>507.736801</td>\n",
              "    </tr>\n",
              "    <tr>\n",
              "      <th>2021-09-24</th>\n",
              "      <td>5108.54980</td>\n",
              "      <td>4790.3501</td>\n",
              "      <td>411.001567</td>\n",
              "    </tr>\n",
              "    <tr>\n",
              "      <th>2021-09-27</th>\n",
              "      <td>4932.54980</td>\n",
              "      <td>4791.6499</td>\n",
              "      <td>233.726947</td>\n",
              "    </tr>\n",
              "    <tr>\n",
              "      <th>...</th>\n",
              "      <td>...</td>\n",
              "      <td>...</td>\n",
              "      <td>...</td>\n",
              "    </tr>\n",
              "    <tr>\n",
              "      <th>2022-08-12</th>\n",
              "      <td>3726.19995</td>\n",
              "      <td>4260.7998</td>\n",
              "      <td>-452.056786</td>\n",
              "    </tr>\n",
              "    <tr>\n",
              "      <th>2022-08-16</th>\n",
              "      <td>3732.00000</td>\n",
              "      <td>4297.7998</td>\n",
              "      <td>-482.539947</td>\n",
              "    </tr>\n",
              "    <tr>\n",
              "      <th>2022-08-17</th>\n",
              "      <td>3748.39990</td>\n",
              "      <td>4315.8999</td>\n",
              "      <td>-483.889500</td>\n",
              "    </tr>\n",
              "    <tr>\n",
              "      <th>2022-08-18</th>\n",
              "      <td>3743.60010</td>\n",
              "      <td>4225.1001</td>\n",
              "      <td>-399.648535</td>\n",
              "    </tr>\n",
              "    <tr>\n",
              "      <th>2022-08-19</th>\n",
              "      <td>3696.19995</td>\n",
              "      <td>4204.0000</td>\n",
              "      <td>-426.357350</td>\n",
              "    </tr>\n",
              "  </tbody>\n",
              "</table>\n",
              "<p>228 rows × 3 columns</p>\n",
              "</div>\n",
              "      <button class=\"colab-df-convert\" onclick=\"convertToInteractive('df-58902cf3-ce41-41e2-9a57-a01526779401')\"\n",
              "              title=\"Convert this dataframe to an interactive table.\"\n",
              "              style=\"display:none;\">\n",
              "        \n",
              "  <svg xmlns=\"http://www.w3.org/2000/svg\" height=\"24px\"viewBox=\"0 0 24 24\"\n",
              "       width=\"24px\">\n",
              "    <path d=\"M0 0h24v24H0V0z\" fill=\"none\"/>\n",
              "    <path d=\"M18.56 5.44l.94 2.06.94-2.06 2.06-.94-2.06-.94-.94-2.06-.94 2.06-2.06.94zm-11 1L8.5 8.5l.94-2.06 2.06-.94-2.06-.94L8.5 2.5l-.94 2.06-2.06.94zm10 10l.94 2.06.94-2.06 2.06-.94-2.06-.94-.94-2.06-.94 2.06-2.06.94z\"/><path d=\"M17.41 7.96l-1.37-1.37c-.4-.4-.92-.59-1.43-.59-.52 0-1.04.2-1.43.59L10.3 9.45l-7.72 7.72c-.78.78-.78 2.05 0 2.83L4 21.41c.39.39.9.59 1.41.59.51 0 1.02-.2 1.41-.59l7.78-7.78 2.81-2.81c.8-.78.8-2.07 0-2.86zM5.41 20L4 18.59l7.72-7.72 1.47 1.35L5.41 20z\"/>\n",
              "  </svg>\n",
              "      </button>\n",
              "      \n",
              "  <style>\n",
              "    .colab-df-container {\n",
              "      display:flex;\n",
              "      flex-wrap:wrap;\n",
              "      gap: 12px;\n",
              "    }\n",
              "\n",
              "    .colab-df-convert {\n",
              "      background-color: #E8F0FE;\n",
              "      border: none;\n",
              "      border-radius: 50%;\n",
              "      cursor: pointer;\n",
              "      display: none;\n",
              "      fill: #1967D2;\n",
              "      height: 32px;\n",
              "      padding: 0 0 0 0;\n",
              "      width: 32px;\n",
              "    }\n",
              "\n",
              "    .colab-df-convert:hover {\n",
              "      background-color: #E2EBFA;\n",
              "      box-shadow: 0px 1px 2px rgba(60, 64, 67, 0.3), 0px 1px 3px 1px rgba(60, 64, 67, 0.15);\n",
              "      fill: #174EA6;\n",
              "    }\n",
              "\n",
              "    [theme=dark] .colab-df-convert {\n",
              "      background-color: #3B4455;\n",
              "      fill: #D2E3FC;\n",
              "    }\n",
              "\n",
              "    [theme=dark] .colab-df-convert:hover {\n",
              "      background-color: #434B5C;\n",
              "      box-shadow: 0px 1px 3px 1px rgba(0, 0, 0, 0.15);\n",
              "      filter: drop-shadow(0px 1px 2px rgba(0, 0, 0, 0.3));\n",
              "      fill: #FFFFFF;\n",
              "    }\n",
              "  </style>\n",
              "\n",
              "      <script>\n",
              "        const buttonEl =\n",
              "          document.querySelector('#df-58902cf3-ce41-41e2-9a57-a01526779401 button.colab-df-convert');\n",
              "        buttonEl.style.display =\n",
              "          google.colab.kernel.accessAllowed ? 'block' : 'none';\n",
              "\n",
              "        async function convertToInteractive(key) {\n",
              "          const element = document.querySelector('#df-58902cf3-ce41-41e2-9a57-a01526779401');\n",
              "          const dataTable =\n",
              "            await google.colab.kernel.invokeFunction('convertToInteractive',\n",
              "                                                     [key], {});\n",
              "          if (!dataTable) return;\n",
              "\n",
              "          const docLinkHtml = 'Like what you see? Visit the ' +\n",
              "            '<a target=\"_blank\" href=https://colab.research.google.com/notebooks/data_table.ipynb>data table notebook</a>'\n",
              "            + ' to learn more about interactive tables.';\n",
              "          element.innerHTML = '';\n",
              "          dataTable['output_type'] = 'display_data';\n",
              "          await google.colab.output.renderOutput(dataTable, element);\n",
              "          const docLink = document.createElement('div');\n",
              "          docLink.innerHTML = docLinkHtml;\n",
              "          element.appendChild(docLink);\n",
              "        }\n",
              "      </script>\n",
              "    </div>\n",
              "  </div>\n",
              "  "
            ]
          },
          "metadata": {},
          "execution_count": 5
        }
      ],
      "source": [
        "DF['Spread'] = DF.iloc[:,0] - model.params[0] * DF.iloc[:,1]\n",
        "DF"
      ]
    },
    {
      "cell_type": "markdown",
      "metadata": {
        "id": "YAuY2jfNbc0c"
      },
      "source": [
        "**Step 6:- Finding the T-Stat value.**"
      ]
    },
    {
      "cell_type": "code",
      "execution_count": 6,
      "metadata": {
        "id": "43-sa1BTW5vG",
        "outputId": "9c6c115d-4e5c-44dc-9548-df7bf40124f8",
        "colab": {
          "base_uri": "https://localhost:8080/"
        }
      },
      "outputs": [
        {
          "output_type": "stream",
          "name": "stdout",
          "text": [
            "\n",
            "\n",
            "\n",
            "ADF VALUE FOR    ===>     DIVISLAB.NS   :  DRREDDY.NS\n",
            "\n"
          ]
        },
        {
          "output_type": "execute_result",
          "data": {
            "text/plain": [
              "-1.8563525977554423"
            ]
          },
          "metadata": {},
          "execution_count": 6
        }
      ],
      "source": [
        "# To perform ADF Test\n",
        "from statsmodels.tsa.stattools import adfuller\n",
        "# Compute ADF test statistics\n",
        "adf = adfuller(DF.Spread, maxlag = 1)\n",
        "print(\"\\n\\n\\nADF VALUE FOR    ===>     \"+ STOCK1 +\"   :  \"+STOCK2+\"\\n\")\n",
        "adf[0]\n",
        "\n"
      ]
    },
    {
      "cell_type": "markdown",
      "metadata": {
        "id": "Rp-KfGOUv6PJ"
      },
      "source": [
        "99% confidence -3.44\t\n",
        "95% Confidence -2.86\t\n",
        "90% Confidence  -2.56\n",
        "\n",
        "\t          \t          "
      ]
    },
    {
      "cell_type": "code",
      "execution_count": 6,
      "metadata": {
        "id": "_HgLxH2whgKo"
      },
      "outputs": [],
      "source": [
        ""
      ]
    }
  ],
  "metadata": {
    "colab": {
      "collapsed_sections": [],
      "name": "ADF Testing.ipynb",
      "provenance": [],
      "toc_visible": true,
      "include_colab_link": true
    },
    "kernelspec": {
      "display_name": "Python 3",
      "name": "python3"
    }
  },
  "nbformat": 4,
  "nbformat_minor": 0
}